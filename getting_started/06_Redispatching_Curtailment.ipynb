{
  "cells": [
    {
      "cell_type": "markdown",
      "metadata": {
        "id": "xYjK5-zRzXvK"
      },
      "source": [
        "# In this notebook you will learn about the redispatching and curtailment capabilities offered by grid2op.\n",
        "Try me out interactively with: [![Binder](https://github.com/Grid2Op/grid2op/blob/master/getting_started/img/badge_logo.svg?raw=1)](https://mybinder.org/v2/gh/Grid2Op/grid2op/master)"
      ]
    },
    {
      "cell_type": "markdown",
      "metadata": {
        "id": "hs4WZYPpzXvO"
      },
      "source": [
        "**Objectives**\n",
        "\n",
        "In the previous notebooks, we presented actions in a discrete action space. However, more actions are available in Grid2Op. Redispatching and curtailment are kind of continuous action that will be described here.\n",
        "\n",
        "This notebook will:\n",
        "\n",
        "- [I) Redispatching](#redispatching) details redispatching\n",
        "    - present what redispatching is\n",
        "    - show how it can be used in grid2op\n",
        "    - detail the redispatching actions\n",
        "    - show an example of a redispatching Agent\n",
        "- [II) Curtailment](#curtailment) explains the curtailment\n",
        "    - show the behaviour of the curtailment: how to perform it, what is does etc.\n",
        "    - expose some limits of this curtailment: it can break the grid easily !"
      ]
    },
    {
      "cell_type": "markdown",
      "metadata": {
        "id": "zPuou6fwzXvQ"
      },
      "source": [
        "<img src=\"https://colab.research.google.com/assets/colab-badge.svg\" width=\"200\">\n",
        "Execute the cell below by removing the # character if you use google colab !\n",
        "\n",
        "Cell will look like:\n",
        "```python\n",
        "!pip install grid2op[optional]  # for use with google colab (grid2Op is not installed by default)\n",
        "```\n",
        "<img src=\"https://colab.research.google.com/assets/colab-badge.svg\" width=\"200\">"
      ]
    },
    {
      "cell_type": "code",
      "execution_count": 1,
      "metadata": {
        "id": "E4R4P19czXvR",
        "outputId": "1fd142ac-5410-462f-a1db-8ec3e8251d54",
        "colab": {
          "base_uri": "https://localhost:8080/"
        }
      },
      "outputs": [
        {
          "output_type": "stream",
          "name": "stdout",
          "text": [
            "Collecting grid2op[optional]\n",
            "  Downloading Grid2Op-1.10.5-py3-none-any.whl.metadata (20 kB)\n",
            "Requirement already satisfied: numpy in /usr/local/lib/python3.10/dist-packages (from grid2op[optional]) (1.26.4)\n",
            "Requirement already satisfied: scipy>=1.4.1 in /usr/local/lib/python3.10/dist-packages (from grid2op[optional]) (1.13.1)\n",
            "Requirement already satisfied: pandas>=1.0.3 in /usr/local/lib/python3.10/dist-packages (from grid2op[optional]) (2.2.2)\n",
            "Collecting pandapower>=2.2.2 (from grid2op[optional])\n",
            "  Downloading pandapower-2.14.11.zip (13.2 MB)\n",
            "\u001b[2K     \u001b[90m━━━━━━━━━━━━━━━━━━━━━━━━━━━━━━━━━━━━━━━━\u001b[0m \u001b[32m13.2/13.2 MB\u001b[0m \u001b[31m58.3 MB/s\u001b[0m eta \u001b[36m0:00:00\u001b[0m\n",
            "\u001b[?25h  Preparing metadata (setup.py) ... \u001b[?25l\u001b[?25hdone\n",
            "Requirement already satisfied: tqdm>=4.45.0 in /usr/local/lib/python3.10/dist-packages (from grid2op[optional]) (4.66.6)\n",
            "Requirement already satisfied: networkx>=2.4 in /usr/local/lib/python3.10/dist-packages (from grid2op[optional]) (3.4.2)\n",
            "Requirement already satisfied: requests>=2.23.0 in /usr/local/lib/python3.10/dist-packages (from grid2op[optional]) (2.32.3)\n",
            "Requirement already satisfied: packaging in /usr/local/lib/python3.10/dist-packages (from grid2op[optional]) (24.2)\n",
            "Requirement already satisfied: typing-extensions in /usr/local/lib/python3.10/dist-packages (from grid2op[optional]) (4.12.2)\n",
            "Requirement already satisfied: nbformat>=5.0.4 in /usr/local/lib/python3.10/dist-packages (from grid2op[optional]) (5.10.4)\n",
            "Requirement already satisfied: jupyter-client>=6.1.0 in /usr/local/lib/python3.10/dist-packages (from grid2op[optional]) (6.1.12)\n",
            "Collecting jyquickhelper>=0.3.128 (from grid2op[optional])\n",
            "  Downloading jyquickhelper-0.4.220-py3-none-any.whl.metadata (5.2 kB)\n",
            "Requirement already satisfied: numba>=0.48.0 in /usr/local/lib/python3.10/dist-packages (from grid2op[optional]) (0.60.0)\n",
            "Requirement already satisfied: matplotlib>=3.2.1 in /usr/local/lib/python3.10/dist-packages (from grid2op[optional]) (3.8.0)\n",
            "Requirement already satisfied: plotly>=4.5.4 in /usr/local/lib/python3.10/dist-packages (from grid2op[optional]) (5.24.1)\n",
            "Requirement already satisfied: seaborn>=0.10.0 in /usr/local/lib/python3.10/dist-packages (from grid2op[optional]) (0.13.2)\n",
            "Requirement already satisfied: imageio>=2.8.0 in /usr/local/lib/python3.10/dist-packages (from grid2op[optional]) (2.36.1)\n",
            "Collecting pygifsicle>=1.0.1 (from grid2op[optional])\n",
            "  Downloading pygifsicle-1.1.0.tar.gz (5.4 kB)\n",
            "  Preparing metadata (setup.py) ... \u001b[?25l\u001b[?25hdone\n",
            "Requirement already satisfied: psutil>=5.7.0 in /usr/local/lib/python3.10/dist-packages (from grid2op[optional]) (5.9.5)\n",
            "Collecting gymnasium (from grid2op[optional])\n",
            "  Downloading gymnasium-1.0.0-py3-none-any.whl.metadata (9.5 kB)\n",
            "Collecting lightsim2grid (from grid2op[optional])\n",
            "  Downloading LightSim2Grid-0.10.0-cp310-cp310-manylinux_2_27_x86_64.manylinux_2_28_x86_64.whl.metadata (18 kB)\n",
            "Requirement already satisfied: pillow>=8.3.2 in /usr/local/lib/python3.10/dist-packages (from imageio>=2.8.0->grid2op[optional]) (11.0.0)\n",
            "Requirement already satisfied: traitlets in /usr/local/lib/python3.10/dist-packages (from jupyter-client>=6.1.0->grid2op[optional]) (5.7.1)\n",
            "Requirement already satisfied: jupyter-core>=4.6.0 in /usr/local/lib/python3.10/dist-packages (from jupyter-client>=6.1.0->grid2op[optional]) (5.7.2)\n",
            "Requirement already satisfied: pyzmq>=13 in /usr/local/lib/python3.10/dist-packages (from jupyter-client>=6.1.0->grid2op[optional]) (24.0.1)\n",
            "Requirement already satisfied: python-dateutil>=2.1 in /usr/local/lib/python3.10/dist-packages (from jupyter-client>=6.1.0->grid2op[optional]) (2.8.2)\n",
            "Requirement already satisfied: tornado>=4.1 in /usr/local/lib/python3.10/dist-packages (from jupyter-client>=6.1.0->grid2op[optional]) (6.3.3)\n",
            "Requirement already satisfied: ipython in /usr/local/lib/python3.10/dist-packages (from jyquickhelper>=0.3.128->grid2op[optional]) (7.34.0)\n",
            "Collecting jupyter (from jyquickhelper>=0.3.128->grid2op[optional])\n",
            "  Downloading jupyter-1.1.1-py2.py3-none-any.whl.metadata (2.0 kB)\n",
            "Requirement already satisfied: notebook in /usr/local/lib/python3.10/dist-packages (from jyquickhelper>=0.3.128->grid2op[optional]) (6.5.5)\n",
            "Requirement already satisfied: contourpy>=1.0.1 in /usr/local/lib/python3.10/dist-packages (from matplotlib>=3.2.1->grid2op[optional]) (1.3.1)\n",
            "Requirement already satisfied: cycler>=0.10 in /usr/local/lib/python3.10/dist-packages (from matplotlib>=3.2.1->grid2op[optional]) (0.12.1)\n",
            "Requirement already satisfied: fonttools>=4.22.0 in /usr/local/lib/python3.10/dist-packages (from matplotlib>=3.2.1->grid2op[optional]) (4.55.3)\n",
            "Requirement already satisfied: kiwisolver>=1.0.1 in /usr/local/lib/python3.10/dist-packages (from matplotlib>=3.2.1->grid2op[optional]) (1.4.7)\n",
            "Requirement already satisfied: pyparsing>=2.3.1 in /usr/local/lib/python3.10/dist-packages (from matplotlib>=3.2.1->grid2op[optional]) (3.2.0)\n",
            "Requirement already satisfied: fastjsonschema>=2.15 in /usr/local/lib/python3.10/dist-packages (from nbformat>=5.0.4->grid2op[optional]) (2.21.1)\n",
            "Requirement already satisfied: jsonschema>=2.6 in /usr/local/lib/python3.10/dist-packages (from nbformat>=5.0.4->grid2op[optional]) (4.23.0)\n",
            "Requirement already satisfied: llvmlite<0.44,>=0.43.0dev0 in /usr/local/lib/python3.10/dist-packages (from numba>=0.48.0->grid2op[optional]) (0.43.0)\n",
            "Collecting deepdiff (from pandapower>=2.2.2->grid2op[optional])\n",
            "  Downloading deepdiff-8.1.1-py3-none-any.whl.metadata (9.5 kB)\n",
            "Requirement already satisfied: pytz>=2020.1 in /usr/local/lib/python3.10/dist-packages (from pandas>=1.0.3->grid2op[optional]) (2024.2)\n",
            "Requirement already satisfied: tzdata>=2022.7 in /usr/local/lib/python3.10/dist-packages (from pandas>=1.0.3->grid2op[optional]) (2024.2)\n",
            "Requirement already satisfied: tenacity>=6.2.0 in /usr/local/lib/python3.10/dist-packages (from plotly>=4.5.4->grid2op[optional]) (9.0.0)\n",
            "Requirement already satisfied: charset-normalizer<4,>=2 in /usr/local/lib/python3.10/dist-packages (from requests>=2.23.0->grid2op[optional]) (3.4.0)\n",
            "Requirement already satisfied: idna<4,>=2.5 in /usr/local/lib/python3.10/dist-packages (from requests>=2.23.0->grid2op[optional]) (3.10)\n",
            "Requirement already satisfied: urllib3<3,>=1.21.1 in /usr/local/lib/python3.10/dist-packages (from requests>=2.23.0->grid2op[optional]) (2.2.3)\n",
            "Requirement already satisfied: certifi>=2017.4.17 in /usr/local/lib/python3.10/dist-packages (from requests>=2.23.0->grid2op[optional]) (2024.8.30)\n",
            "Requirement already satisfied: cloudpickle>=1.2.0 in /usr/local/lib/python3.10/dist-packages (from gymnasium->grid2op[optional]) (3.1.0)\n",
            "Collecting farama-notifications>=0.0.1 (from gymnasium->grid2op[optional])\n",
            "  Downloading Farama_Notifications-0.0.4-py3-none-any.whl.metadata (558 bytes)\n",
            "Requirement already satisfied: setuptools in /usr/local/lib/python3.10/dist-packages (from lightsim2grid->grid2op[optional]) (75.1.0)\n",
            "Requirement already satisfied: pip in /usr/local/lib/python3.10/dist-packages (from lightsim2grid->grid2op[optional]) (24.1.2)\n",
            "Collecting pybind11 (from lightsim2grid->grid2op[optional])\n",
            "  Downloading pybind11-2.13.6-py3-none-any.whl.metadata (9.5 kB)\n",
            "Requirement already satisfied: attrs>=22.2.0 in /usr/local/lib/python3.10/dist-packages (from jsonschema>=2.6->nbformat>=5.0.4->grid2op[optional]) (24.2.0)\n",
            "Requirement already satisfied: jsonschema-specifications>=2023.03.6 in /usr/local/lib/python3.10/dist-packages (from jsonschema>=2.6->nbformat>=5.0.4->grid2op[optional]) (2024.10.1)\n",
            "Requirement already satisfied: referencing>=0.28.4 in /usr/local/lib/python3.10/dist-packages (from jsonschema>=2.6->nbformat>=5.0.4->grid2op[optional]) (0.35.1)\n",
            "Requirement already satisfied: rpds-py>=0.7.1 in /usr/local/lib/python3.10/dist-packages (from jsonschema>=2.6->nbformat>=5.0.4->grid2op[optional]) (0.22.3)\n",
            "Requirement already satisfied: platformdirs>=2.5 in /usr/local/lib/python3.10/dist-packages (from jupyter-core>=4.6.0->jupyter-client>=6.1.0->grid2op[optional]) (4.3.6)\n",
            "Requirement already satisfied: six>=1.5 in /usr/local/lib/python3.10/dist-packages (from python-dateutil>=2.1->jupyter-client>=6.1.0->grid2op[optional]) (1.17.0)\n",
            "Collecting orderly-set<6,>=5.2.3 (from deepdiff->pandapower>=2.2.2->grid2op[optional])\n",
            "  Downloading orderly_set-5.2.3-py3-none-any.whl.metadata (6.0 kB)\n",
            "Collecting jedi>=0.16 (from ipython->jyquickhelper>=0.3.128->grid2op[optional])\n",
            "  Downloading jedi-0.19.2-py2.py3-none-any.whl.metadata (22 kB)\n",
            "Requirement already satisfied: decorator in /usr/local/lib/python3.10/dist-packages (from ipython->jyquickhelper>=0.3.128->grid2op[optional]) (4.4.2)\n",
            "Requirement already satisfied: pickleshare in /usr/local/lib/python3.10/dist-packages (from ipython->jyquickhelper>=0.3.128->grid2op[optional]) (0.7.5)\n",
            "Requirement already satisfied: prompt-toolkit!=3.0.0,!=3.0.1,<3.1.0,>=2.0.0 in /usr/local/lib/python3.10/dist-packages (from ipython->jyquickhelper>=0.3.128->grid2op[optional]) (3.0.48)\n",
            "Requirement already satisfied: pygments in /usr/local/lib/python3.10/dist-packages (from ipython->jyquickhelper>=0.3.128->grid2op[optional]) (2.18.0)\n",
            "Requirement already satisfied: backcall in /usr/local/lib/python3.10/dist-packages (from ipython->jyquickhelper>=0.3.128->grid2op[optional]) (0.2.0)\n",
            "Requirement already satisfied: matplotlib-inline in /usr/local/lib/python3.10/dist-packages (from ipython->jyquickhelper>=0.3.128->grid2op[optional]) (0.1.7)\n",
            "Requirement already satisfied: pexpect>4.3 in /usr/local/lib/python3.10/dist-packages (from ipython->jyquickhelper>=0.3.128->grid2op[optional]) (4.9.0)\n",
            "Requirement already satisfied: jupyter-console in /usr/local/lib/python3.10/dist-packages (from jupyter->jyquickhelper>=0.3.128->grid2op[optional]) (6.1.0)\n",
            "Requirement already satisfied: nbconvert in /usr/local/lib/python3.10/dist-packages (from jupyter->jyquickhelper>=0.3.128->grid2op[optional]) (7.16.4)\n",
            "Requirement already satisfied: ipykernel in /usr/local/lib/python3.10/dist-packages (from jupyter->jyquickhelper>=0.3.128->grid2op[optional]) (5.5.6)\n",
            "Requirement already satisfied: ipywidgets in /usr/local/lib/python3.10/dist-packages (from jupyter->jyquickhelper>=0.3.128->grid2op[optional]) (7.7.1)\n",
            "Collecting jupyterlab (from jupyter->jyquickhelper>=0.3.128->grid2op[optional])\n",
            "  Downloading jupyterlab-4.3.3-py3-none-any.whl.metadata (16 kB)\n",
            "Requirement already satisfied: jinja2 in /usr/local/lib/python3.10/dist-packages (from notebook->jyquickhelper>=0.3.128->grid2op[optional]) (3.1.4)\n",
            "Requirement already satisfied: argon2-cffi in /usr/local/lib/python3.10/dist-packages (from notebook->jyquickhelper>=0.3.128->grid2op[optional]) (23.1.0)\n",
            "Requirement already satisfied: ipython-genutils in /usr/local/lib/python3.10/dist-packages (from notebook->jyquickhelper>=0.3.128->grid2op[optional]) (0.2.0)\n",
            "Requirement already satisfied: nest-asyncio>=1.5 in /usr/local/lib/python3.10/dist-packages (from notebook->jyquickhelper>=0.3.128->grid2op[optional]) (1.6.0)\n",
            "Requirement already satisfied: Send2Trash>=1.8.0 in /usr/local/lib/python3.10/dist-packages (from notebook->jyquickhelper>=0.3.128->grid2op[optional]) (1.8.3)\n",
            "Requirement already satisfied: terminado>=0.8.3 in /usr/local/lib/python3.10/dist-packages (from notebook->jyquickhelper>=0.3.128->grid2op[optional]) (0.18.1)\n",
            "Requirement already satisfied: prometheus-client in /usr/local/lib/python3.10/dist-packages (from notebook->jyquickhelper>=0.3.128->grid2op[optional]) (0.21.1)\n",
            "Requirement already satisfied: nbclassic>=0.4.7 in /usr/local/lib/python3.10/dist-packages (from notebook->jyquickhelper>=0.3.128->grid2op[optional]) (1.1.0)\n",
            "Requirement already satisfied: parso<0.9.0,>=0.8.4 in /usr/local/lib/python3.10/dist-packages (from jedi>=0.16->ipython->jyquickhelper>=0.3.128->grid2op[optional]) (0.8.4)\n",
            "Requirement already satisfied: notebook-shim>=0.2.3 in /usr/local/lib/python3.10/dist-packages (from nbclassic>=0.4.7->notebook->jyquickhelper>=0.3.128->grid2op[optional]) (0.2.4)\n",
            "Requirement already satisfied: beautifulsoup4 in /usr/local/lib/python3.10/dist-packages (from nbconvert->jupyter->jyquickhelper>=0.3.128->grid2op[optional]) (4.12.3)\n",
            "Requirement already satisfied: bleach!=5.0.0 in /usr/local/lib/python3.10/dist-packages (from nbconvert->jupyter->jyquickhelper>=0.3.128->grid2op[optional]) (6.2.0)\n",
            "Requirement already satisfied: defusedxml in /usr/local/lib/python3.10/dist-packages (from nbconvert->jupyter->jyquickhelper>=0.3.128->grid2op[optional]) (0.7.1)\n",
            "Requirement already satisfied: jupyterlab-pygments in /usr/local/lib/python3.10/dist-packages (from nbconvert->jupyter->jyquickhelper>=0.3.128->grid2op[optional]) (0.3.0)\n",
            "Requirement already satisfied: markupsafe>=2.0 in /usr/local/lib/python3.10/dist-packages (from nbconvert->jupyter->jyquickhelper>=0.3.128->grid2op[optional]) (3.0.2)\n",
            "Requirement already satisfied: mistune<4,>=2.0.3 in /usr/local/lib/python3.10/dist-packages (from nbconvert->jupyter->jyquickhelper>=0.3.128->grid2op[optional]) (3.0.2)\n",
            "Requirement already satisfied: nbclient>=0.5.0 in /usr/local/lib/python3.10/dist-packages (from nbconvert->jupyter->jyquickhelper>=0.3.128->grid2op[optional]) (0.10.1)\n",
            "Requirement already satisfied: pandocfilters>=1.4.1 in /usr/local/lib/python3.10/dist-packages (from nbconvert->jupyter->jyquickhelper>=0.3.128->grid2op[optional]) (1.5.1)\n",
            "Requirement already satisfied: tinycss2 in /usr/local/lib/python3.10/dist-packages (from nbconvert->jupyter->jyquickhelper>=0.3.128->grid2op[optional]) (1.4.0)\n",
            "Requirement already satisfied: ptyprocess>=0.5 in /usr/local/lib/python3.10/dist-packages (from pexpect>4.3->ipython->jyquickhelper>=0.3.128->grid2op[optional]) (0.7.0)\n",
            "Requirement already satisfied: wcwidth in /usr/local/lib/python3.10/dist-packages (from prompt-toolkit!=3.0.0,!=3.0.1,<3.1.0,>=2.0.0->ipython->jyquickhelper>=0.3.128->grid2op[optional]) (0.2.13)\n",
            "Requirement already satisfied: argon2-cffi-bindings in /usr/local/lib/python3.10/dist-packages (from argon2-cffi->notebook->jyquickhelper>=0.3.128->grid2op[optional]) (21.2.0)\n",
            "Requirement already satisfied: widgetsnbextension~=3.6.0 in /usr/local/lib/python3.10/dist-packages (from ipywidgets->jupyter->jyquickhelper>=0.3.128->grid2op[optional]) (3.6.10)\n",
            "Requirement already satisfied: jupyterlab-widgets>=1.0.0 in /usr/local/lib/python3.10/dist-packages (from ipywidgets->jupyter->jyquickhelper>=0.3.128->grid2op[optional]) (3.0.13)\n",
            "Collecting async-lru>=1.0.0 (from jupyterlab->jupyter->jyquickhelper>=0.3.128->grid2op[optional])\n",
            "  Downloading async_lru-2.0.4-py3-none-any.whl.metadata (4.5 kB)\n",
            "Requirement already satisfied: httpx>=0.25.0 in /usr/local/lib/python3.10/dist-packages (from jupyterlab->jupyter->jyquickhelper>=0.3.128->grid2op[optional]) (0.28.1)\n",
            "Collecting ipykernel (from jupyter->jyquickhelper>=0.3.128->grid2op[optional])\n",
            "  Downloading ipykernel-6.29.5-py3-none-any.whl.metadata (6.3 kB)\n",
            "Collecting jupyter-lsp>=2.0.0 (from jupyterlab->jupyter->jyquickhelper>=0.3.128->grid2op[optional])\n",
            "  Downloading jupyter_lsp-2.2.5-py3-none-any.whl.metadata (1.8 kB)\n",
            "Collecting jupyter-server<3,>=2.4.0 (from jupyterlab->jupyter->jyquickhelper>=0.3.128->grid2op[optional])\n",
            "  Downloading jupyter_server-2.14.2-py3-none-any.whl.metadata (8.4 kB)\n",
            "Collecting jupyterlab-server<3,>=2.27.1 (from jupyterlab->jupyter->jyquickhelper>=0.3.128->grid2op[optional])\n",
            "  Downloading jupyterlab_server-2.27.3-py3-none-any.whl.metadata (5.9 kB)\n",
            "Requirement already satisfied: tomli>=1.2.2 in /usr/local/lib/python3.10/dist-packages (from jupyterlab->jupyter->jyquickhelper>=0.3.128->grid2op[optional]) (2.2.1)\n",
            "Collecting comm>=0.1.1 (from ipykernel->jupyter->jyquickhelper>=0.3.128->grid2op[optional])\n",
            "  Downloading comm-0.2.2-py3-none-any.whl.metadata (3.7 kB)\n",
            "Requirement already satisfied: debugpy>=1.6.5 in /usr/local/lib/python3.10/dist-packages (from ipykernel->jupyter->jyquickhelper>=0.3.128->grid2op[optional]) (1.8.0)\n",
            "Requirement already satisfied: webencodings in /usr/local/lib/python3.10/dist-packages (from bleach!=5.0.0->nbconvert->jupyter->jyquickhelper>=0.3.128->grid2op[optional]) (0.5.1)\n",
            "Requirement already satisfied: anyio in /usr/local/lib/python3.10/dist-packages (from httpx>=0.25.0->jupyterlab->jupyter->jyquickhelper>=0.3.128->grid2op[optional]) (3.7.1)\n",
            "Requirement already satisfied: httpcore==1.* in /usr/local/lib/python3.10/dist-packages (from httpx>=0.25.0->jupyterlab->jupyter->jyquickhelper>=0.3.128->grid2op[optional]) (1.0.7)\n",
            "Requirement already satisfied: h11<0.15,>=0.13 in /usr/local/lib/python3.10/dist-packages (from httpcore==1.*->httpx>=0.25.0->jupyterlab->jupyter->jyquickhelper>=0.3.128->grid2op[optional]) (0.14.0)\n",
            "Collecting jupyter-client>=6.1.0 (from grid2op[optional])\n",
            "  Downloading jupyter_client-7.4.9-py3-none-any.whl.metadata (8.5 kB)\n",
            "Collecting jupyter-events>=0.9.0 (from jupyter-server<3,>=2.4.0->jupyterlab->jupyter->jyquickhelper>=0.3.128->grid2op[optional])\n",
            "  Downloading jupyter_events-0.11.0-py3-none-any.whl.metadata (5.8 kB)\n",
            "Collecting jupyter-server-terminals>=0.4.4 (from jupyter-server<3,>=2.4.0->jupyterlab->jupyter->jyquickhelper>=0.3.128->grid2op[optional])\n",
            "  Downloading jupyter_server_terminals-0.5.3-py3-none-any.whl.metadata (5.6 kB)\n",
            "Collecting overrides>=5.0 (from jupyter-server<3,>=2.4.0->jupyterlab->jupyter->jyquickhelper>=0.3.128->grid2op[optional])\n",
            "  Downloading overrides-7.7.0-py3-none-any.whl.metadata (5.8 kB)\n",
            "Requirement already satisfied: websocket-client>=1.7 in /usr/local/lib/python3.10/dist-packages (from jupyter-server<3,>=2.4.0->jupyterlab->jupyter->jyquickhelper>=0.3.128->grid2op[optional]) (1.8.0)\n",
            "Requirement already satisfied: entrypoints in /usr/local/lib/python3.10/dist-packages (from jupyter-client>=6.1.0->grid2op[optional]) (0.4)\n",
            "Requirement already satisfied: babel>=2.10 in /usr/local/lib/python3.10/dist-packages (from jupyterlab-server<3,>=2.27.1->jupyterlab->jupyter->jyquickhelper>=0.3.128->grid2op[optional]) (2.16.0)\n",
            "Collecting json5>=0.9.0 (from jupyterlab-server<3,>=2.27.1->jupyterlab->jupyter->jyquickhelper>=0.3.128->grid2op[optional])\n",
            "  Downloading json5-0.10.0-py3-none-any.whl.metadata (34 kB)\n",
            "Requirement already satisfied: cffi>=1.0.1 in /usr/local/lib/python3.10/dist-packages (from argon2-cffi-bindings->argon2-cffi->notebook->jyquickhelper>=0.3.128->grid2op[optional]) (1.17.1)\n",
            "Requirement already satisfied: soupsieve>1.2 in /usr/local/lib/python3.10/dist-packages (from beautifulsoup4->nbconvert->jupyter->jyquickhelper>=0.3.128->grid2op[optional]) (2.6)\n",
            "Requirement already satisfied: sniffio>=1.1 in /usr/local/lib/python3.10/dist-packages (from anyio->httpx>=0.25.0->jupyterlab->jupyter->jyquickhelper>=0.3.128->grid2op[optional]) (1.3.1)\n",
            "Requirement already satisfied: exceptiongroup in /usr/local/lib/python3.10/dist-packages (from anyio->httpx>=0.25.0->jupyterlab->jupyter->jyquickhelper>=0.3.128->grid2op[optional]) (1.2.2)\n",
            "Requirement already satisfied: pycparser in /usr/local/lib/python3.10/dist-packages (from cffi>=1.0.1->argon2-cffi-bindings->argon2-cffi->notebook->jyquickhelper>=0.3.128->grid2op[optional]) (2.22)\n",
            "Collecting python-json-logger>=2.0.4 (from jupyter-events>=0.9.0->jupyter-server<3,>=2.4.0->jupyterlab->jupyter->jyquickhelper>=0.3.128->grid2op[optional])\n",
            "  Downloading python_json_logger-3.2.1-py3-none-any.whl.metadata (4.1 kB)\n",
            "Requirement already satisfied: pyyaml>=5.3 in /usr/local/lib/python3.10/dist-packages (from jupyter-events>=0.9.0->jupyter-server<3,>=2.4.0->jupyterlab->jupyter->jyquickhelper>=0.3.128->grid2op[optional]) (6.0.2)\n",
            "Collecting rfc3339-validator (from jupyter-events>=0.9.0->jupyter-server<3,>=2.4.0->jupyterlab->jupyter->jyquickhelper>=0.3.128->grid2op[optional])\n",
            "  Downloading rfc3339_validator-0.1.4-py2.py3-none-any.whl.metadata (1.5 kB)\n",
            "Collecting rfc3986-validator>=0.1.1 (from jupyter-events>=0.9.0->jupyter-server<3,>=2.4.0->jupyterlab->jupyter->jyquickhelper>=0.3.128->grid2op[optional])\n",
            "  Downloading rfc3986_validator-0.1.1-py2.py3-none-any.whl.metadata (1.7 kB)\n",
            "Collecting fqdn (from jsonschema[format-nongpl]>=4.18.0->jupyter-events>=0.9.0->jupyter-server<3,>=2.4.0->jupyterlab->jupyter->jyquickhelper>=0.3.128->grid2op[optional])\n",
            "  Downloading fqdn-1.5.1-py3-none-any.whl.metadata (1.4 kB)\n",
            "Collecting isoduration (from jsonschema[format-nongpl]>=4.18.0->jupyter-events>=0.9.0->jupyter-server<3,>=2.4.0->jupyterlab->jupyter->jyquickhelper>=0.3.128->grid2op[optional])\n",
            "  Downloading isoduration-20.11.0-py3-none-any.whl.metadata (5.7 kB)\n",
            "Requirement already satisfied: jsonpointer>1.13 in /usr/local/lib/python3.10/dist-packages (from jsonschema[format-nongpl]>=4.18.0->jupyter-events>=0.9.0->jupyter-server<3,>=2.4.0->jupyterlab->jupyter->jyquickhelper>=0.3.128->grid2op[optional]) (3.0.0)\n",
            "Collecting uri-template (from jsonschema[format-nongpl]>=4.18.0->jupyter-events>=0.9.0->jupyter-server<3,>=2.4.0->jupyterlab->jupyter->jyquickhelper>=0.3.128->grid2op[optional])\n",
            "  Downloading uri_template-1.3.0-py3-none-any.whl.metadata (8.8 kB)\n",
            "Requirement already satisfied: webcolors>=24.6.0 in /usr/local/lib/python3.10/dist-packages (from jsonschema[format-nongpl]>=4.18.0->jupyter-events>=0.9.0->jupyter-server<3,>=2.4.0->jupyterlab->jupyter->jyquickhelper>=0.3.128->grid2op[optional]) (24.11.1)\n",
            "Collecting arrow>=0.15.0 (from isoduration->jsonschema[format-nongpl]>=4.18.0->jupyter-events>=0.9.0->jupyter-server<3,>=2.4.0->jupyterlab->jupyter->jyquickhelper>=0.3.128->grid2op[optional])\n",
            "  Downloading arrow-1.3.0-py3-none-any.whl.metadata (7.5 kB)\n",
            "Collecting types-python-dateutil>=2.8.10 (from arrow>=0.15.0->isoduration->jsonschema[format-nongpl]>=4.18.0->jupyter-events>=0.9.0->jupyter-server<3,>=2.4.0->jupyterlab->jupyter->jyquickhelper>=0.3.128->grid2op[optional])\n",
            "  Downloading types_python_dateutil-2.9.0.20241206-py3-none-any.whl.metadata (2.1 kB)\n",
            "Downloading jyquickhelper-0.4.220-py3-none-any.whl (1.5 MB)\n",
            "\u001b[2K   \u001b[90m━━━━━━━━━━━━━━━━━━━━━━━━━━━━━━━━━━━━━━━━\u001b[0m \u001b[32m1.5/1.5 MB\u001b[0m \u001b[31m47.4 MB/s\u001b[0m eta \u001b[36m0:00:00\u001b[0m\n",
            "\u001b[?25hDownloading Grid2Op-1.10.5-py3-none-any.whl (16.8 MB)\n",
            "\u001b[2K   \u001b[90m━━━━━━━━━━━━━━━━━━━━━━━━━━━━━━━━━━━━━━━━\u001b[0m \u001b[32m16.8/16.8 MB\u001b[0m \u001b[31m54.2 MB/s\u001b[0m eta \u001b[36m0:00:00\u001b[0m\n",
            "\u001b[?25hDownloading gymnasium-1.0.0-py3-none-any.whl (958 kB)\n",
            "\u001b[2K   \u001b[90m━━━━━━━━━━━━━━━━━━━━━━━━━━━━━━━━━━━━━━━━\u001b[0m \u001b[32m958.1/958.1 kB\u001b[0m \u001b[31m36.9 MB/s\u001b[0m eta \u001b[36m0:00:00\u001b[0m\n",
            "\u001b[?25hDownloading LightSim2Grid-0.10.0-cp310-cp310-manylinux_2_27_x86_64.manylinux_2_28_x86_64.whl (858 kB)\n",
            "\u001b[2K   \u001b[90m━━━━━━━━━━━━━━━━━━━━━━━━━━━━━━━━━━━━━━━━\u001b[0m \u001b[32m858.4/858.4 kB\u001b[0m \u001b[31m30.3 MB/s\u001b[0m eta \u001b[36m0:00:00\u001b[0m\n",
            "\u001b[?25hDownloading Farama_Notifications-0.0.4-py3-none-any.whl (2.5 kB)\n",
            "Downloading deepdiff-8.1.1-py3-none-any.whl (84 kB)\n",
            "\u001b[2K   \u001b[90m━━━━━━━━━━━━━━━━━━━━━━━━━━━━━━━━━━━━━━━━\u001b[0m \u001b[32m84.7/84.7 kB\u001b[0m \u001b[31m6.4 MB/s\u001b[0m eta \u001b[36m0:00:00\u001b[0m\n",
            "\u001b[?25hDownloading jupyter-1.1.1-py2.py3-none-any.whl (2.7 kB)\n",
            "Downloading pybind11-2.13.6-py3-none-any.whl (243 kB)\n",
            "\u001b[2K   \u001b[90m━━━━━━━━━━━━━━━━━━━━━━━━━━━━━━━━━━━━━━━━\u001b[0m \u001b[32m243.3/243.3 kB\u001b[0m \u001b[31m15.1 MB/s\u001b[0m eta \u001b[36m0:00:00\u001b[0m\n",
            "\u001b[?25hDownloading jedi-0.19.2-py2.py3-none-any.whl (1.6 MB)\n",
            "\u001b[2K   \u001b[90m━━━━━━━━━━━━━━━━━━━━━━━━━━━━━━━━━━━━━━━━\u001b[0m \u001b[32m1.6/1.6 MB\u001b[0m \u001b[31m45.9 MB/s\u001b[0m eta \u001b[36m0:00:00\u001b[0m\n",
            "\u001b[?25hDownloading orderly_set-5.2.3-py3-none-any.whl (12 kB)\n",
            "Downloading jupyterlab-4.3.3-py3-none-any.whl (11.7 MB)\n",
            "\u001b[2K   \u001b[90m━━━━━━━━━━━━━━━━━━━━━━━━━━━━━━━━━━━━━━━━\u001b[0m \u001b[32m11.7/11.7 MB\u001b[0m \u001b[31m61.7 MB/s\u001b[0m eta \u001b[36m0:00:00\u001b[0m\n",
            "\u001b[?25hDownloading ipykernel-6.29.5-py3-none-any.whl (117 kB)\n",
            "\u001b[2K   \u001b[90m━━━━━━━━━━━━━━━━━━━━━━━━━━━━━━━━━━━━━━━━\u001b[0m \u001b[32m117.2/117.2 kB\u001b[0m \u001b[31m8.6 MB/s\u001b[0m eta \u001b[36m0:00:00\u001b[0m\n",
            "\u001b[?25hDownloading async_lru-2.0.4-py3-none-any.whl (6.1 kB)\n",
            "Downloading comm-0.2.2-py3-none-any.whl (7.2 kB)\n",
            "Downloading jupyter_lsp-2.2.5-py3-none-any.whl (69 kB)\n",
            "\u001b[2K   \u001b[90m━━━━━━━━━━━━━━━━━━━━━━━━━━━━━━━━━━━━━━━━\u001b[0m \u001b[32m69.1/69.1 kB\u001b[0m \u001b[31m3.9 MB/s\u001b[0m eta \u001b[36m0:00:00\u001b[0m\n",
            "\u001b[?25hDownloading jupyter_server-2.14.2-py3-none-any.whl (383 kB)\n",
            "\u001b[2K   \u001b[90m━━━━━━━━━━━━━━━━━━━━━━━━━━━━━━━━━━━━━━━━\u001b[0m \u001b[32m383.6/383.6 kB\u001b[0m \u001b[31m20.9 MB/s\u001b[0m eta \u001b[36m0:00:00\u001b[0m\n",
            "\u001b[?25hDownloading jupyter_client-7.4.9-py3-none-any.whl (133 kB)\n",
            "\u001b[2K   \u001b[90m━━━━━━━━━━━━━━━━━━━━━━━━━━━━━━━━━━━━━━━━\u001b[0m \u001b[32m133.5/133.5 kB\u001b[0m \u001b[31m8.7 MB/s\u001b[0m eta \u001b[36m0:00:00\u001b[0m\n",
            "\u001b[?25hDownloading jupyterlab_server-2.27.3-py3-none-any.whl (59 kB)\n",
            "\u001b[2K   \u001b[90m━━━━━━━━━━━━━━━━━━━━━━━━━━━━━━━━━━━━━━━━\u001b[0m \u001b[32m59.7/59.7 kB\u001b[0m \u001b[31m4.1 MB/s\u001b[0m eta \u001b[36m0:00:00\u001b[0m\n",
            "\u001b[?25hDownloading json5-0.10.0-py3-none-any.whl (34 kB)\n",
            "Downloading jupyter_events-0.11.0-py3-none-any.whl (19 kB)\n",
            "Downloading jupyter_server_terminals-0.5.3-py3-none-any.whl (13 kB)\n",
            "Downloading overrides-7.7.0-py3-none-any.whl (17 kB)\n",
            "Downloading python_json_logger-3.2.1-py3-none-any.whl (14 kB)\n",
            "Downloading rfc3986_validator-0.1.1-py2.py3-none-any.whl (4.2 kB)\n",
            "Downloading rfc3339_validator-0.1.4-py2.py3-none-any.whl (3.5 kB)\n",
            "Downloading fqdn-1.5.1-py3-none-any.whl (9.1 kB)\n",
            "Downloading isoduration-20.11.0-py3-none-any.whl (11 kB)\n",
            "Downloading uri_template-1.3.0-py3-none-any.whl (11 kB)\n",
            "Downloading arrow-1.3.0-py3-none-any.whl (66 kB)\n",
            "\u001b[2K   \u001b[90m━━━━━━━━━━━━━━━━━━━━━━━━━━━━━━━━━━━━━━━━\u001b[0m \u001b[32m66.4/66.4 kB\u001b[0m \u001b[31m4.5 MB/s\u001b[0m eta \u001b[36m0:00:00\u001b[0m\n",
            "\u001b[?25hDownloading types_python_dateutil-2.9.0.20241206-py3-none-any.whl (14 kB)\n",
            "Building wheels for collected packages: pandapower, pygifsicle\n",
            "  Building wheel for pandapower (setup.py) ... \u001b[?25l\u001b[?25hdone\n",
            "  Created wheel for pandapower: filename=pandapower-2.14.11-py3-none-any.whl size=13131028 sha256=626c5198737c2caf19ded5a5a3553c169173c1cbbe98bc2efd05064b3d45602b\n",
            "  Stored in directory: /root/.cache/pip/wheels/7f/de/5a/7b00f385eb06d1fb1f7c1cd06f9bb901709c038d3899548cf1\n",
            "  Building wheel for pygifsicle (setup.py) ... \u001b[?25l\u001b[?25hdone\n",
            "  Created wheel for pygifsicle: filename=pygifsicle-1.1.0-py3-none-any.whl size=4994 sha256=433270cf74bfe58ac05dae7a41c9577ce6e3fbebf615d4c589c9120ca3f96cb1\n",
            "  Stored in directory: /root/.cache/pip/wheels/4a/5e/df/706ac0af090eef3eee4024abc53929cd9aaae4d94b881d4f96\n",
            "Successfully built pandapower pygifsicle\n",
            "Installing collected packages: pygifsicle, farama-notifications, uri-template, types-python-dateutil, rfc3986-validator, rfc3339-validator, python-json-logger, pybind11, overrides, orderly-set, json5, jedi, gymnasium, fqdn, comm, async-lru, lightsim2grid, jupyter-server-terminals, jupyter-client, deepdiff, arrow, pandapower, isoduration, ipykernel, grid2op, jupyter-events, jupyter-server, jupyterlab-server, jupyter-lsp, jupyterlab, jupyter, jyquickhelper\n",
            "  Attempting uninstall: jupyter-client\n",
            "    Found existing installation: jupyter-client 6.1.12\n",
            "    Uninstalling jupyter-client-6.1.12:\n",
            "      Successfully uninstalled jupyter-client-6.1.12\n",
            "  Attempting uninstall: ipykernel\n",
            "    Found existing installation: ipykernel 5.5.6\n",
            "    Uninstalling ipykernel-5.5.6:\n",
            "      Successfully uninstalled ipykernel-5.5.6\n",
            "  Attempting uninstall: jupyter-server\n",
            "    Found existing installation: jupyter-server 1.24.0\n",
            "    Uninstalling jupyter-server-1.24.0:\n",
            "      Successfully uninstalled jupyter-server-1.24.0\n",
            "\u001b[31mERROR: pip's dependency resolver does not currently take into account all the packages that are installed. This behaviour is the source of the following dependency conflicts.\n",
            "google-colab 1.0.0 requires ipykernel==5.5.6, but you have ipykernel 6.29.5 which is incompatible.\u001b[0m\u001b[31m\n",
            "\u001b[0mSuccessfully installed arrow-1.3.0 async-lru-2.0.4 comm-0.2.2 deepdiff-8.1.1 farama-notifications-0.0.4 fqdn-1.5.1 grid2op-1.10.5 gymnasium-1.0.0 ipykernel-6.29.5 isoduration-20.11.0 jedi-0.19.2 json5-0.10.0 jupyter-1.1.1 jupyter-client-7.4.9 jupyter-events-0.11.0 jupyter-lsp-2.2.5 jupyter-server-2.14.2 jupyter-server-terminals-0.5.3 jupyterlab-4.3.3 jupyterlab-server-2.27.3 jyquickhelper-0.4.220 lightsim2grid-0.10.0 orderly-set-5.2.3 overrides-7.7.0 pandapower-2.14.11 pybind11-2.13.6 pygifsicle-1.1.0 python-json-logger-3.2.1 rfc3339-validator-0.1.4 rfc3986-validator-0.1.1 types-python-dateutil-2.9.0.20241206 uri-template-1.3.0\n"
          ]
        }
      ],
      "source": [
        " !pip install grid2op[optional]  # for use with google colab (grid2Op is not installed by default)"
      ]
    },
    {
      "cell_type": "code",
      "execution_count": 2,
      "metadata": {
        "id": "ItgzFbtEzXvS"
      },
      "outputs": [],
      "source": [
        "import os\n",
        "import sys\n",
        "import grid2op\n",
        "from grid2op.Agent import DoNothingAgent, BaseAgent\n",
        "from tqdm.notebook import tqdm  # for easy progress bar\n",
        "display_tqdm = False  # this is set to False for ease with the unitt test, feel free to set it to True\n",
        "import numpy as np\n",
        "max_iter = 100  # to make computation much faster we will only consider 100 time steps\n",
        "import pdb\n",
        "import matplotlib.pyplot as plt"
      ]
    },
    {
      "cell_type": "code",
      "execution_count": 3,
      "metadata": {
        "id": "2nbrvSDJzXvT",
        "outputId": "f703bdc6-1d1a-45a9-b980-3fb9ac9faba9",
        "colab": {
          "base_uri": "https://localhost:8080/",
          "height": 17
        }
      },
      "outputs": [
        {
          "output_type": "execute_result",
          "data": {
            "text/plain": [
              "<IPython.core.display.HTML object>"
            ],
            "text/html": [
              "<div id=\"my_id_menu_nb\">run previous cell, wait for 2 seconds</div>\n",
              "<script>\n",
              "function repeat_indent_string(n){\n",
              "    var a = \"\" ;\n",
              "    for ( ; n > 0 ; --n)\n",
              "        a += \"    \";\n",
              "    return a;\n",
              "}\n",
              "// look up into all sections and builds an automated menu //\n",
              "var update_menu_string = function(begin, lfirst, llast, sformat, send, keep_item, begin_format, end_format) {\n",
              "    var anchors = document.getElementsByClassName(\"section\");\n",
              "    if (anchors.length == 0) {\n",
              "        anchors = document.getElementsByClassName(\"text_cell_render rendered_html\");\n",
              "    }\n",
              "    var i,t;\n",
              "    var text_menu = begin;\n",
              "    var text_memo = \"<pre>\\nlength:\" + anchors.length + \"\\n\";\n",
              "    var ind = \"\";\n",
              "    var memo_level = 1;\n",
              "    var href;\n",
              "    var tags = [];\n",
              "    var main_item = 0;\n",
              "    var format_open = 0;\n",
              "    for (i = 0; i <= llast; i++)\n",
              "        tags.push(\"h\" + i);\n",
              "\n",
              "    for (i = 0; i < anchors.length; i++) {\n",
              "        text_memo += \"**\" + anchors[i].id + \"--\\n\";\n",
              "\n",
              "        var child = null;\n",
              "        for(t = 0; t < tags.length; t++) {\n",
              "            var r = anchors[i].getElementsByTagName(tags[t]);\n",
              "            if (r.length > 0) {\n",
              "child = r[0];\n",
              "break;\n",
              "            }\n",
              "        }\n",
              "        if (child == null) {\n",
              "            text_memo += \"null\\n\";\n",
              "            continue;\n",
              "        }\n",
              "        if (anchors[i].hasAttribute(\"id\")) {\n",
              "            // when converted in RST\n",
              "            href = anchors[i].id;\n",
              "            text_memo += \"#1-\" + href;\n",
              "            // passer à child suivant (le chercher)\n",
              "        }\n",
              "        else if (child.hasAttribute(\"id\")) {\n",
              "            // in a notebook\n",
              "            href = child.id;\n",
              "            text_memo += \"#2-\" + href;\n",
              "        }\n",
              "        else {\n",
              "            text_memo += \"#3-\" + \"*\" + \"\\n\";\n",
              "            continue;\n",
              "        }\n",
              "        var title = child.textContent;\n",
              "        var level = parseInt(child.tagName.substring(1,2));\n",
              "\n",
              "        text_memo += \"--\" + level + \"?\" + lfirst + \"--\" + title + \"\\n\";\n",
              "\n",
              "        if ((level < lfirst) || (level > llast)) {\n",
              "            continue ;\n",
              "        }\n",
              "        if (title.endsWith('¶')) {\n",
              "            title = title.substring(0,title.length-1).replace(\"<\", \"&lt;\")\n",
              "         .replace(\">\", \"&gt;\").replace(\"&\", \"&amp;\");\n",
              "        }\n",
              "        if (title.length == 0) {\n",
              "            continue;\n",
              "        }\n",
              "\n",
              "        while (level < memo_level) {\n",
              "            text_menu += end_format + \"</ul>\\n\";\n",
              "            format_open -= 1;\n",
              "            memo_level -= 1;\n",
              "        }\n",
              "        if (level == lfirst) {\n",
              "            main_item += 1;\n",
              "        }\n",
              "        if (keep_item != -1 && main_item != keep_item + 1) {\n",
              "            // alert(main_item + \" - \" + level + \" - \" + keep_item);\n",
              "            continue;\n",
              "        }\n",
              "        while (level > memo_level) {\n",
              "            text_menu += \"<ul>\\n\";\n",
              "            memo_level += 1;\n",
              "        }\n",
              "        text_menu += repeat_indent_string(level-2);\n",
              "        text_menu += begin_format + sformat.replace(\"__HREF__\", href).replace(\"__TITLE__\", title);\n",
              "        format_open += 1;\n",
              "    }\n",
              "    while (1 < memo_level) {\n",
              "        text_menu += end_format + \"</ul>\\n\";\n",
              "        memo_level -= 1;\n",
              "        format_open -= 1;\n",
              "    }\n",
              "    text_menu += send;\n",
              "    //text_menu += \"\\n\" + text_memo;\n",
              "\n",
              "    while (format_open > 0) {\n",
              "        text_menu += end_format;\n",
              "        format_open -= 1;\n",
              "    }\n",
              "    return text_menu;\n",
              "};\n",
              "var update_menu = function() {\n",
              "    var sbegin = \"\";\n",
              "    var sformat = '<a href=\"#__HREF__\">__TITLE__</a>';\n",
              "    var send = \"\";\n",
              "    var begin_format = '<li>';\n",
              "    var end_format = '</li>';\n",
              "    var keep_item = -1;\n",
              "    var text_menu = update_menu_string(sbegin, 2, 4, sformat, send, keep_item,\n",
              "       begin_format, end_format);\n",
              "    var menu = document.getElementById(\"my_id_menu_nb\");\n",
              "    menu.innerHTML=text_menu;\n",
              "};\n",
              "window.setTimeout(update_menu,2000);\n",
              "            </script>"
            ]
          },
          "metadata": {},
          "execution_count": 3
        }
      ],
      "source": [
        "res = None\n",
        "try:\n",
        "    from jyquickhelper import add_notebook_menu\n",
        "    res = add_notebook_menu()\n",
        "except ModuleNotFoundError:\n",
        "    print(\"Impossible to automatically add a menu / table of content to this notebook.\\nYou can download \\\"jyquickhelper\\\" package with: \\n\\\"pip install jyquickhelper\\\"\")\n",
        "res"
      ]
    },
    {
      "cell_type": "markdown",
      "metadata": {
        "id": "4Ib224GuzXvU"
      },
      "source": [
        "# I) Redispatching  <a class=\"anchor\" id=\"redispatching\"></a>"
      ]
    },
    {
      "cell_type": "markdown",
      "metadata": {
        "id": "rF3U5zWwzXvU"
      },
      "source": [
        "## How to implement redispatch actions"
      ]
    },
    {
      "cell_type": "markdown",
      "metadata": {
        "id": "biRorIqYzXvV"
      },
      "source": [
        "### Having a suitable environment"
      ]
    },
    {
      "cell_type": "markdown",
      "metadata": {
        "id": "5ElcaC_czXvW"
      },
      "source": [
        "By default, some environments do not specify the cost of generators, their maximum and minimum production values, etc. In this case it is not possible to redispatch in grid2op.\n",
        "\n",
        "To know more about what is needed for using redispatching, it is advised to look at this help online : https://grid2op.readthedocs.io/en/latest/space.html#grid2op.Space.GridObjects.redispatching_unit_commitment_availble for the most recent documentation. When this notebook was created, the following were needed:\n",
        "\n",
        "- \"gen_type\": the type of generator\n",
        "- \"gen_pmin\": the minimum value a generator can produce\n",
        "- \"gen_pmax\" : the maximum value a generator can produce\n",
        "- \"gen_redispatchable\": whether this generator can be dispatched\n",
        "- \"gen_max_ramp_up\": the maximum increase of power a generator can have between two consecutive time steps\n",
        "- \"gen_max_ramp_down\": the maximum decrease of power a generator can have between two consecutive time steps\n",
        "- \"gen_min_uptime\": the minimum time a generator needs to be turned on (it's impossible to disconnect it if it's not connected for a least \"gen_min_uptime\" consecutive time step)\n",
        "- \"gen_min_downtime\": same as above, but for downtime\n",
        "- \"gen_cost_per_MW\": the generation cost. For each MW of electricity produced in a time step, this is the amount paid\n",
        "- \"gen_startup_cost\": the cost to start a generator\n",
        "- \"gen_shutdown_cost\": the cost to shutdown a generator\n",
        "\n",
        "We made available a dedicated environment, based on the IEEE case14 powergrid that has all this features. It is advised to use this small environment for testing and getting familiar with redispatching.\n",
        "\n",
        "This environment includes 5 generators, as the original case14 system. It has one solar generator and one wind generator (that cannot be dispatched), one nuclear powerplant (dispatchable) and 2 thermal generators (also dispatchable). Thus, redispatching is a problem of continuous control with 3 degress of freedom here."
      ]
    },
    {
      "cell_type": "code",
      "execution_count": 4,
      "metadata": {
        "id": "7yuxr6aizXvX",
        "outputId": "1604cf29-c4e2-409f-c461-704d6d5da670",
        "colab": {
          "base_uri": "https://localhost:8080/"
        }
      },
      "outputs": [
        {
          "output_type": "stream",
          "name": "stderr",
          "text": [
            "/usr/local/lib/python3.10/dist-packages/grid2op/MakeEnv/Make.py:454: UserWarning: You are using a development environment. This environment is not intended for training agents. It might not be up to date and its primary use if for tests (hence the \"test=True\" you passed as argument). Use at your own risk.\n",
            "  warnings.warn(_MAKE_DEV_ENV_WARN)\n"
          ]
        },
        {
          "output_type": "stream",
          "name": "stdout",
          "text": [
            "Is this environment suitable for redispatching: True\n"
          ]
        }
      ],
      "source": [
        "try:\n",
        "    from lightsim2grid import LightSimBackend\n",
        "    bk_cls = LightSimBackend\n",
        "except ImportError as exc:\n",
        "    print(f\"Error: {exc} when importing faster LightSimBackend\")\n",
        "    from grid2op.Backend import PandaPowerBackend\n",
        "    bk_cls = PandaPowerBackend\n",
        "\n",
        "env_name = \"l2rpn_case14_sandbox\"\n",
        "env = grid2op.make(env_name, test=True, backend=bk_cls())\n",
        "\n",
        "print(\"Is this environment suitable for redispatching: {}\".format(env.redispatching_unit_commitment_availble))"
      ]
    },
    {
      "cell_type": "markdown",
      "metadata": {
        "id": "j7-ZcyqbzXvX"
      },
      "source": [
        "As we can see, this environment is suitable for redispatching. It means that all quantities described above are set (and visible).\n",
        "\n",
        "In the L2RPN 2019 challenges, we rewarded participants based on the use of the powerlines. In next challenges, or for other uses of this platform where redispatching should be considered, it's better to consider the economic cost of the sytem as an evaluation metric. However, usually a cost should be minimized, while a reward should be maximized. To take this into account, a simple reward named \"EconomicReward\" has been created. It has the following properties:\n",
        "\n",
        "- it returns -1 if there has been a game over\n",
        "- otherwise (there has been no game over, no errors, etc) it is always strictly positive\n",
        "- maximizing this reward is equivalent to minimizing the cost\n",
        "\n",
        "Note that this reward doesn't take into account the cost to perform a redispatching action. This reward can be used to build what is called an \"economic dispatch\", a problem that is particularly interesting for electricity producers but of lower interest for Transmission System Operators (as opposed to the topology).\n",
        "\n",
        "Compared to standard \"economic dispatch\" problems, for now storages are not implemented (coming soon) and we don't fully take into account the startup cost, shutdown cost, as well as minimum downtime and minimum uptime (even though all of these features are implemented). Also, note that redispatching is implemented in differences, meaning that you first need to provide an economic dispatch, and then think in terms of variations from that point onward. This is the usage that will be explained in this notebook. For real unit commitment / economic dispatch problems, the key words \"injections\" / \"prod_p\" for the action would probably be more suited."
      ]
    },
    {
      "cell_type": "markdown",
      "metadata": {
        "id": "jvTLjm40zXvY"
      },
      "source": [
        "### Redispatching implementation"
      ]
    },
    {
      "cell_type": "markdown",
      "metadata": {
        "id": "8LSEtNCGzXvY"
      },
      "source": [
        "Unlike topological actions which are always feasible (this is an assumption that is made in this package), redispatching actions are limited by physical constraints on the generators. For example:\n",
        "\n",
        "- it is not possible for a generator to produce more (resp. less) than pmax (resp. pmin). Unlike the curent flow on the powerline, this is a strict physical constraint.\n",
        "- it is not possible for the same physical limitations to increase (or decrease) too much the value between two consecutive time steps.\n",
        "- redispatching actions stack with one another. It means that if you ask to increase the production of the generator 1 by $10MW$ at time step t, and by $20MW$ at time step $t+1$, it means that the set point at time step $t+1$ will be $+30MW$ higher than if no redispatching had been made (it would have been only $+10MW$ higher if the second redispatching action had not been performed).\n",
        "\n",
        "That being said, much can happen that makes redispatching a bit less trivial than topology changes:\n",
        "- When you do a redispatching action, you don't know what the time series of the environment looks like. For example, say the pmax of generator 1 is 100. The setpoint of this generator at time t is $60MW$, and you want to increase its value by another $40MW$. This action is legal: $60+40 \\leq pmax (=100) $. So at time $t$ everything is fine. Now let's suppose that the environment also moved the setpoint of this same generator from $60$ to be at $70MW$ at time $t+1$. With the redispatching action, this would mean that the setpoint would be $70+40 = 110 > pmax$. This is not possible. In this case, the redispatching action will be capped : instead of the desired redispatching of $+40$, only a smaller redispatching of $+30$ will be implemented on the powergrid.\n",
        "- Another problem can arise with the fundamental principle of power grid: power energy cannot be stored in a grid. At each time we then have $\\sum \\text{Prod} = \\sum \\text{Load} + \\text{Losses}$. In this competition, the data is generated such that this condition holds (approximately) for all time steps. This means that if you ask for a redispatching of +xxx MW on a given generator, then the other ones must compensate and \"absorb\" xxx MW such that it sums to 0 overall.\n",
        "\n",
        "Out of simplicity for the participants, there are some built-in control mechanisms and functions (\"automatons\") that automatically transform an proposed redispatching action into a valid redispatching action.\n",
        "\n",
        "These automatons basically ensure that the two above-mentionned conditions hold. It explains the differences between \"target_redispatching\" which is the desired setpoint enter by the agent, and the \"actual_redispatching\" which is the one that has actually been implemented on the powergrid after it has been corrected by the automatons."
      ]
    },
    {
      "cell_type": "markdown",
      "metadata": {
        "id": "La7aVl_wzXvZ"
      },
      "source": [
        "### More cases for ambiguous actions"
      ]
    },
    {
      "cell_type": "code",
      "execution_count": null,
      "metadata": {
        "id": "qrg9qXebzXvZ"
      },
      "outputs": [],
      "source": [
        "env.gen_redispatchable"
      ]
    },
    {
      "cell_type": "markdown",
      "metadata": {
        "id": "n76gXkNozXvZ"
      },
      "source": [
        "The above vector tells which generator is dispatchable and which is not. Any attempt to dispatch a generator that is not dispatchable leads to an ambiguous action."
      ]
    },
    {
      "cell_type": "code",
      "execution_count": null,
      "metadata": {
        "id": "MxrioWL7zXvZ"
      },
      "outputs": [],
      "source": [
        "act = env.action_space({\"redispatch\": [(2, +10)]})\n",
        "act.is_ambiguous()"
      ]
    },
    {
      "cell_type": "markdown",
      "metadata": {
        "id": "EkN5qzOLzXvZ"
      },
      "source": [
        "As we see, this action is ambiguous because we are `Trying to apply a redispatching action on a non redispatchable generator`. Indeed, as shown above, the generator 2 is not dispatchable.\n",
        "\n",
        "Generators also have physical constraints. You cannot ask them to change the active production value too fast, this would damage the generator, and breaking a nuclear plant is often a terrible idea. In grid2op it is implemented as an ambiguous action. Trying to go beyond this value will result in an ambiguous action.\n",
        "\n",
        "This value is called the \"ramp\" and it's available through the \"max_ramp_up\" attribute. On the next cell, you can see that the ramp is $5MW$ for the first generator and $10MW$ for the second one and the last one. For the other 2 it's irrelevant because they are not dispatchable."
      ]
    },
    {
      "cell_type": "code",
      "execution_count": null,
      "metadata": {
        "id": "8_NebbvMzXva"
      },
      "outputs": [],
      "source": [
        "env.gen_max_ramp_up"
      ]
    },
    {
      "cell_type": "markdown",
      "metadata": {
        "id": "Ee8C90OozXva"
      },
      "source": [
        "Any attempt to go beyond this value will raise an ambiguous error :"
      ]
    },
    {
      "cell_type": "code",
      "execution_count": null,
      "metadata": {
        "id": "6ZA00uRWzXva"
      },
      "outputs": [],
      "source": [
        "act = env.action_space({\"redispatch\": [(0, +10)]})\n",
        "act.is_ambiguous()"
      ]
    },
    {
      "cell_type": "markdown",
      "metadata": {
        "id": "N0HmanC-zXva"
      },
      "source": [
        "In the previous action, we asked the generator 0 to increase its setpoint by $10MW$. However, its maximum ramp up is only $5MW$. Thus, this action is ambiguous.\n",
        "\n",
        "Of course, there are some perfectly valid redispatching actions:"
      ]
    },
    {
      "cell_type": "code",
      "execution_count": null,
      "metadata": {
        "id": "7UglIUpDzXva"
      },
      "outputs": [],
      "source": [
        "act = env.action_space({\"redispatch\": [(1, +10)]})\n",
        "act.is_ambiguous()"
      ]
    },
    {
      "cell_type": "markdown",
      "metadata": {
        "id": "g1qzsXh3zXva"
      },
      "source": [
        "### The (desired) setpoint is not the actual setpoint"
      ]
    },
    {
      "cell_type": "markdown",
      "metadata": {
        "id": "qWQU7HrczXva"
      },
      "source": [
        "As said in the preamble of this section, the target dispatching, what we want to achieve (the target), is not equal to the implemented dispatching. So that we can see the operations that are actually being performed, both of these values are present in the observation, as shown in the cell below."
      ]
    },
    {
      "cell_type": "code",
      "execution_count": null,
      "metadata": {
        "id": "4uzboBRpzXvb"
      },
      "outputs": [],
      "source": [
        "observed = []\n",
        "# perform a valid redispatching action\n",
        "env.set_id(0)  # make sure to use the same environment input data.\n",
        "obs_init = env.reset()  # reset the environment\n",
        "act = env.action_space()\n",
        "act = env.action_space({\"redispatch\": [(0, -5)]})\n",
        "obs, reward, done, info = env.step(act)\n",
        "print(\"actual dispatch at time step 0: {}\".format(obs.actual_dispatch))\n",
        "observed.append(obs)"
      ]
    },
    {
      "cell_type": "markdown",
      "metadata": {
        "id": "KF7e72KTzXvb"
      },
      "source": [
        "The target dispatch is exactly what we wanted, e.g. the generator 0 has decreased its production by $5MW$. To compensate for this increase, both generator 1 has increase its production of 2MW and generator 5 of 3 MW.\n",
        "\n",
        "Let's plot the generators' base productions in this environment data (*ie* without any intervention from the agent), and what is implemented with the current redispatching :"
      ]
    },
    {
      "cell_type": "code",
      "execution_count": null,
      "metadata": {
        "id": "zBBmDY31zXvb"
      },
      "outputs": [],
      "source": [
        "# Create a matplot figure\n",
        "redisp_fig = plt.figure()\n",
        "ax = redisp_fig.add_axes([0,0,1,1])\n",
        "# X axis is the generators\n",
        "x_gens = np.arange(obs.n_gen)\n",
        "# Y axis is the production in MW\n",
        "y_scenario_p = obs.gen_p - obs.actual_dispatch\n",
        "y_redisp_p = obs.gen_p\n",
        "# Blue bars for scenario productions\n",
        "ax.bar(x_gens - 0.2, y_scenario_p, width = 0.4)\n",
        "# Red bars for production with redispatch\n",
        "ax.bar(x_gens + 0.2, y_redisp_p, width = 0.4)\n",
        "# Set some legend to describe what's above\n",
        "ax.set_ylabel('MW')\n",
        "ax.set_xlabel('Generator ID')\n",
        "_ = ax.legend(labels=['Generation in scenario', 'Generation after redispatched'])"
      ]
    },
    {
      "cell_type": "markdown",
      "metadata": {
        "id": "ISOpAgqyzXvb"
      },
      "source": [
        "In the following cell, we won't be performing any redispatching action. We will simply do nothing. This example is here to illustrate that grid2op will continue to apply the previous redispatching configuration over time, until the original redispatching action is removed (i.e. until the opposite command is sent)."
      ]
    },
    {
      "cell_type": "code",
      "execution_count": null,
      "metadata": {
        "id": "jWaFbTN9zXvb"
      },
      "outputs": [],
      "source": [
        "donothing = env.action_space()\n",
        "obs1, reward, done, info = env.step(donothing)\n",
        "print(\"actual dispatch at time step 1: {}\".format(obs1.actual_dispatch))\n",
        "observed.append(obs1)\n",
        "obs2, reward, done, info = env.step(donothing)\n",
        "print(\"actual dispatch at time step 2: {}\".format(obs2.actual_dispatch))\n",
        "observed.append(obs2)\n",
        "obs3, reward, done, info = env.step(donothing)\n",
        "print(\"actual dispatch at time step 2: {}\".format(obs2.actual_dispatch))\n",
        "observed.append(obs3)"
      ]
    },
    {
      "cell_type": "markdown",
      "metadata": {
        "id": "W9fDCtgKzXvb"
      },
      "source": [
        "Here, the original redispatching action was to increase the setpoint of generator 0 by $5MW$. If we want to remove this, we need to decrease its setpoint by $5MW$ :"
      ]
    },
    {
      "cell_type": "code",
      "execution_count": null,
      "metadata": {
        "id": "jraLE-i4zXvc"
      },
      "outputs": [],
      "source": [
        "act = env.action_space({\"redispatch\": [(0, 5)]})\n",
        "obs3, reward, done, info = env.step(act)\n",
        "print(\"actual dispatch at time step 3: {}\".format(obs3.actual_dispatch))\n",
        "observed.append(obs3)"
      ]
    },
    {
      "cell_type": "markdown",
      "metadata": {
        "id": "tTLQfymrzXvc"
      },
      "source": [
        "As we see in the cell above, there are still residuals on the dispatch.\n",
        "\n",
        "This is because of the physical limit of the ramp of the generator 0.\n",
        "\n",
        "We wanted it to return to its original setpoint value, but at the same time step, the \"environment\" (representing a market for example) also modified the setpoint of this generator by +0.3MW.\n",
        "\n",
        "Therefore, the total desired increase for the setpoint of generator 0 was $5+0.4 = 5.4 > max\\_ramp\\_down$. The action (that would increase the production of 5.4 MW) could not completely performed. Grid2op \"capped\" the redispatch occuring at this timestep to $5MW$ (max\\_ramp\\_down) leaving a remaining of -0.4MW (instead of the initial -5.)\n",
        "\n",
        "That is why we can see a small part of the dispatch left. If we wait for another timestep and do nothing, the generator will likely be in order."
      ]
    },
    {
      "cell_type": "code",
      "execution_count": null,
      "metadata": {
        "id": "rfwd4kcwzXvc"
      },
      "outputs": [],
      "source": [
        "obs4, reward, done, info = env.step(donothing)\n",
        "print(\"actual dispatch at time step 4: {}\".format(obs4.actual_dispatch))\n",
        "observed.append(obs4)\n",
        "obs5, reward, done, info = env.step(donothing)\n",
        "print(\"actual dispatch at time step 5: {}\".format(obs5.actual_dispatch))\n",
        "observed.append(obs5)"
      ]
    },
    {
      "cell_type": "markdown",
      "metadata": {
        "id": "Zxk-Lqp8zXvd"
      },
      "source": [
        "Now everything is set up as it should be. The system is back to its original state. Let's see what happens if we ask to decrease again the value of this generator 0."
      ]
    },
    {
      "cell_type": "code",
      "execution_count": null,
      "metadata": {
        "id": "YezSUujGzXvd"
      },
      "outputs": [],
      "source": [
        "act = env.action_space({\"redispatch\": [(0, -5.)]})\n",
        "obs6, reward, done, info = env.step(act)\n",
        "print(\"actual dispatch at time step 6: {}\".format(obs6.actual_dispatch))\n",
        "observed.append(obs6)\n",
        "obs7, reward, done, info = env.step(donothing)\n",
        "print(\"actual dispatch at time step 7: {}\".format(obs7.actual_dispatch))\n",
        "observed.append(obs7)\n",
        "obs8, reward, done, info = env.step(donothing)\n",
        "print(\"actual dispatch at time step 8: {}\".format(obs8.actual_dispatch))\n",
        "observed.append(obs8)"
      ]
    },
    {
      "cell_type": "markdown",
      "metadata": {
        "id": "0qTOprV-zXvd"
      },
      "source": [
        "This time we see that the full (valid) redispatching action is not applied completely.\n",
        "\n",
        "This is due to the same phenomenon that occurred previously. The environment (*eg* a market or a central authority) decreased the value of this generator and at the same time, we (=an agent operating the grid in real time) also asked to decrease it by its \"max ramp up\" value.\n",
        "\n",
        "Consequently, our action was \"capped\" and only  4.4MW (out of 5MW) were indeed removed to the generator's production.\n",
        "\n",
        "At the next time step (step 7), the action is fully implemented.\n",
        "\n",
        "To conclude on redispatching, we saw that there is a difference between the value we ask for, and the value that is implemented by the environment. This is mainly because:\n",
        "\n",
        "- the implemented vector should sum to 0.\n",
        "- if a redispatching is close to the maximum value it can take (due to ramping limitation or hard limitations) and if at the same time the environment itself \"wants\" to increase this value, physical limitations have to be respected.\n",
        "\n",
        "Redispatching actions also last in time. One action must be explicitely canceled to be reset to 0. This cancellation can take a few time steps to be fully effective as of the limitations mentionned above."
      ]
    },
    {
      "cell_type": "markdown",
      "metadata": {
        "id": "-Ck3M-gQzXvd"
      },
      "source": [
        "To summarize, we can look at the productions over time for generators 0 & 5:"
      ]
    },
    {
      "cell_type": "code",
      "execution_count": null,
      "metadata": {
        "id": "b4vp0RuIzXvi"
      },
      "outputs": [],
      "source": [
        "# Create a matplot figure\n",
        "redisp_fig = plt.figure(figsize=(16, 9))\n",
        "# X axis is the timesteps\n",
        "x_gens = np.arange(len(observed), dtype=np.int32)\n",
        "# Y axis is the production in MW\n",
        "y_scenario_p_0 = [o.gen_p[0] - o.actual_dispatch[0] for o in observed]\n",
        "y_redisp_p_0 = [o.gen_p[0] for o in observed]\n",
        "y_scenario_p_4 = [o.gen_p[5] - o.actual_dispatch[5] for o in observed]\n",
        "y_redisp_p_4 = [o.gen_p[5] for o in observed]\n",
        "# Blue lines for gen 0\n",
        "plt.plot(x_gens, y_scenario_p_0, 'b', x_gens, y_redisp_p_0, 'b--')\n",
        "# Red lines for gen 4\n",
        "plt.plot(x_gens, y_scenario_p_4, 'r', x_gens, y_redisp_p_4, 'r--')\n",
        "# Set some legend to describe what's above\n",
        "plt.ylabel('MW')\n",
        "plt.xlabel('Timesteps')\n",
        "_ = plt.legend(labels=['Scenario gen 0', 'Redispatched gen 0', 'Scenario gen 5', 'Redispatched gen 5'])"
      ]
    },
    {
      "cell_type": "markdown",
      "metadata": {
        "id": "Dh5FIO68zXvj"
      },
      "source": [
        "## Example of use: economic dispatch problem\n",
        "\n",
        "**NB** This is an illustration of an economic dispatch problem that can use grid2op. The problems modeled in the L2RPN competitions are NOT economic dispatch."
      ]
    },
    {
      "cell_type": "code",
      "execution_count": null,
      "metadata": {
        "id": "T43sqHFWzXvj"
      },
      "outputs": [],
      "source": [
        "agent = DoNothingAgent(env.action_space)\n",
        "done = False\n",
        "reward = env.reward_range[0]\n",
        "\n",
        "env.set_id(0)  # make sure to evaluate the models on the same experiments\n",
        "obs = env.reset()\n",
        "cum_reward = 0\n",
        "nrow = env.chronics_handler.max_timestep() if max_iter <= 0 else max_iter\n",
        "gen_p = np.zeros((nrow, env.n_gen))\n",
        "gen_p_setpoint = np.zeros((nrow, env.n_gen))\n",
        "load_p = np.zeros((nrow, env.n_load))\n",
        "rho = np.zeros((nrow, env.n_line))\n",
        "i = 0\n",
        "with tqdm(total=max_iter, desc=\"step\", disable=not display_tqdm) as pbar:\n",
        "    while not done:\n",
        "        act = agent.act(obs, reward, done)\n",
        "        obs, reward, done, info = env.step(act)\n",
        "        data_generator = env.chronics_handler.real_data.data\n",
        "        gen_p_setpoint[i,:] = data_generator.prod_p[data_generator.current_index, :]\n",
        "        gen_p[i,:] = obs.gen_p\n",
        "        load_p[i,:] = obs.load_p\n",
        "        rho[i,:] = obs.rho\n",
        "        cum_reward += reward\n",
        "        i += 1\n",
        "        pbar.update(1)\n",
        "        if i >= max_iter:\n",
        "            break\n",
        "print(\"The cumulative reward with this agent is {:.0f}\".format(cum_reward))"
      ]
    },
    {
      "cell_type": "markdown",
      "metadata": {
        "id": "ztU1gP7TzXvj"
      },
      "source": [
        "Now let's try to redispatch as much production as possible to the cheapest generator, and leave the rest unchanged."
      ]
    },
    {
      "cell_type": "code",
      "execution_count": null,
      "metadata": {
        "id": "Q7oNZRg4zXvl"
      },
      "outputs": [],
      "source": [
        "class GreedyEconomic(BaseAgent):\n",
        "    def __init__(self, action_space):\n",
        "        super().__init__(action_space)\n",
        "        self.do_nothing = action_space()\n",
        "\n",
        "    def act(self, obs, reward, done):\n",
        "        act = self.do_nothing\n",
        "        if obs.gen_p[0] < obs.gen_pmax[0] - 1 and \\\n",
        "        obs.target_dispatch[0] < (obs.gen_pmax[0] - obs.gen_max_ramp_up[0]) - 1 and\\\n",
        "        obs.gen_p[0] > 0.:\n",
        "            # if the cheapest generator is significantly bellow its maximum cost\n",
        "            if obs.target_dispatch[0] < obs.gen_pmax[0]:\n",
        "                #in theory i can still ask for more\n",
        "                act = env.action_space({\"redispatch\": [(0, obs.gen_max_ramp_up[0])]})\n",
        "        return act\n",
        "\n",
        "agent = GreedyEconomic(env.action_space)\n",
        "done = False\n",
        "reward = env.reward_range[0]\n",
        "\n",
        "env.set_id(0) # reset the env to the same id\n",
        "obs = env.reset()\n",
        "cum_reward = 0\n",
        "nrow = env.chronics_handler.max_timestep() if max_iter <= 0 else max_iter\n",
        "gen_p = np.zeros((nrow, env.n_gen))\n",
        "gen_p_setpoint = np.zeros((nrow, env.n_gen))\n",
        "load_p = np.zeros((nrow, env.n_load))\n",
        "rho = np.zeros((nrow, env.n_line))\n",
        "i = 0\n",
        "with tqdm(total=max_iter, desc=\"step\", disable=not display_tqdm) as pbar:\n",
        "    while not done:\n",
        "        act = agent.act(obs, reward, done)\n",
        "        obs, reward, done, info = env.step(act)\n",
        "        data_generator = env.chronics_handler.real_data.data\n",
        "        gen_p_setpoint[i,:] = data_generator.prod_p[data_generator.current_index, :]\n",
        "        gen_p[i,:] = obs.gen_p\n",
        "        load_p[i,:] = obs.load_p\n",
        "        rho[i,:] = obs.rho\n",
        "        cum_reward += reward\n",
        "        i += 1\n",
        "        pbar.update(1)\n",
        "        if i >= max_iter:\n",
        "            break\n",
        "\n",
        "print(\"The cumulative reward with this agent is {:.0f}\".format(cum_reward))"
      ]
    },
    {
      "cell_type": "markdown",
      "metadata": {
        "id": "ZMwuCXSIzXvm"
      },
      "source": [
        "As we can see, that second agent performed worse than the `DoNothing` agent, demonstrating that having the cheapest generators produce the most energy is not always the best solution."
      ]
    },
    {
      "cell_type": "markdown",
      "metadata": {
        "id": "8ZA5OaGzzXvm"
      },
      "source": [
        "# II Curtailment  <a class=\"anchor\" id=\"curtailment\"></a>\n",
        "\n",
        "Quite like redispatching, curtailment is a type of action that can act on generators. As opposed to redispatching it acts on generators coming from renewable energy sources.\n",
        "\n",
        "The idea behind the curtailment is to limit the production of some generators to a certain upper bound. In real world application, such actions can be performed in case of emergency: when a powerline evacuating a wind farm is on overflow, it can be necassary to reduce the production the this wind farm even though we could have produced more.\n",
        "\n",
        "**NB** As for everything related to grid2op, we adopt the TSO point of view and model real time. This implies that the offer / demand equilibrium has been already computed. If the agent can not act, then the offer matches the demand already. Curtailment here is to understand as a real time security measure.\n",
        "\n",
        "If you want a detailed description of the modeling of the curtailment you can visit the official documentation [here](https://grid2op.readthedocs.io/en/latest/modeled_elements.html#generators)\n",
        "\n",
        "First let's see how you can apply a curtailment action in mainly 4 different ways. For the sake of the example, imagine we limit the production of the generator 2 at 10% of its maximum generation."
      ]
    },
    {
      "cell_type": "code",
      "execution_count": null,
      "metadata": {
        "id": "_I3q-IxfzXvm"
      },
      "outputs": [],
      "source": [
        "import grid2op\n",
        "from grid2op.Action import PlayableAction\n",
        "from grid2op.Parameters import Parameters\n",
        "import matplotlib.pyplot as plt\n",
        "\n",
        "param = Parameters()\n",
        "param.NO_OVERFLOW_DISCONNECTION = True\n",
        "env1 = grid2op.make(\"educ_case14_storage\",\n",
        "                    test=True,\n",
        "                    action_class=PlayableAction,\n",
        "                    param=param,\n",
        "                    backend=bk_cls())\n",
        "\n",
        "gen_id = 2  # because we want to act on generator 2\n",
        "amount_ratio = 0.1  # that is the 7% of the limit\n",
        "\n",
        "# method 1\n",
        "curtail_act_1 = env1.action_space({\"curtail\": [(gen_id, amount_ratio)]})\n",
        "\n",
        "# method 2\n",
        "curtail_vect = np.zeros(env1.n_gen) - 1.\n",
        "curtail_vect[gen_id] = amount_ratio\n",
        "curtail_act_2 = env1.action_space({\"curtail\": curtail_vect})\n",
        "\n",
        "# method 3\n",
        "curtail_act_3 = env1.action_space()\n",
        "curtail_act_3.curtail = [(gen_id, amount_ratio)]\n",
        "\n",
        "\n",
        "# method 4\n",
        "curtail_act_4 = env1.action_space()\n",
        "curtail_act_4.curtail = curtail_vect\n",
        "\n",
        "# all these actions are equal\n",
        "print(curtail_act_4)"
      ]
    },
    {
      "cell_type": "markdown",
      "metadata": {
        "id": "ibF487BJzXvn"
      },
      "source": [
        "One \"side effect\" of applying a curtailment action can be redispatching. Indeed, the balance between production and load should maintain. The data (before curtailment) meets this criteria. This means that whatever curtailment is performed should be absorbed somehow.\n",
        "\n",
        "We decided to have the dispatchable generators produce more to compensate the curtailment. This behaviour is showed in the cell below."
      ]
    },
    {
      "cell_type": "code",
      "execution_count": null,
      "metadata": {
        "id": "RI_V_0KZzXvn"
      },
      "outputs": [],
      "source": [
        "env1.set_id(0)\n",
        "obs_init = env1.reset()\n",
        "obs, *_ = env1.step(curtail_act_1)\n",
        "print(f\"Amount of MW curtailed for generator {gen_id}: {obs.curtailment_mw[gen_id]:.2f} MW\")\n",
        "print(f\"Sum of redispatched generator: {obs.actual_dispatch.sum():.2f} MW\")"
      ]
    },
    {
      "cell_type": "markdown",
      "metadata": {
        "id": "CyH-b8T-zXvn"
      },
      "source": [
        "Finally, curtailment action will perdure on time. This means that if you perform a curtailment action on a step, unless you modify it later on.\n",
        "\n",
        "In this example above, the generator with id 2 will be constrained to produce less than 15% of its maximum production until you change that.\n",
        "\n",
        "We explain it in the cell below:"
      ]
    },
    {
      "cell_type": "code",
      "execution_count": null,
      "metadata": {
        "id": "zSU_V3PmzXvn"
      },
      "outputs": [],
      "source": [
        "print(f\"Curtailment setpoint for generator {gen_id}: {obs.curtailment_limit[gen_id]:.2f} \"\n",
        "      f\"({obs.curtailment_limit_mw[gen_id]:.2f} MW)\")\n",
        "\n",
        "# we perform a do nothing action\n",
        "obs0, *_ = env1.step(env1.action_space())\n",
        "print(f\"Curtailment setpoint for generator {gen_id} (after do nothing action): \"\n",
        "      f\"{obs0.curtailment_limit[gen_id]:.2f} \"\n",
        "      f\"({obs0.curtailment_limit_mw[gen_id]:.2f} MW)\")\n",
        "# we perform a do nothing action\n",
        "obs1, *_ = env1.step(env1.action_space())\n",
        "print(f\"Curtailment setpoint for generator {gen_id} (after a second do nothing action): \"\n",
        "      f\"{obs1.curtailment_limit[gen_id]:.2f} \"\n",
        "      f\"({obs1.curtailment_limit_mw[gen_id]:.2f} MW)\")\n",
        "# we perform a do nothing action\n",
        "obs2, *_ = env1.step(env1.action_space())\n",
        "print(f\"Curtailment setpoint for generator {gen_id} (after a third do nothing action): \"\n",
        "      f\"{obs2.curtailment_limit[gen_id]:.2f} \"\n",
        "      f\"({obs2.curtailment_limit_mw[gen_id]:.2f} MW)\")\n",
        "\n",
        "# we perform an action to remove the curtailment\n",
        "curtail_act_reset = env1.action_space({\"curtail\": [(gen_id, 1.0)]})\n",
        "obs3, *_ = env1.step(curtail_act_reset)\n",
        "print(f\"Curtailment setpoint for generator {gen_id} (after setting the curtailment to 100% again): \"\n",
        "      f\"{obs3.curtailment_limit[gen_id]:.2f} \"\n",
        "      f\"({obs3.curtailment_limit_mw[gen_id]:.2f} MW)\")\n",
        "\n",
        "# we perform another do nothing action\n",
        "obs4, *_ = env1.step(env1.action_space())\n",
        "print(f\"Curtailment setpoint for generator {gen_id} (after a third do nothing action): \"\n",
        "      f\"{obs4.curtailment_limit[gen_id]:.2f} \"\n",
        "      f\"({obs4.curtailment_limit_mw[gen_id]:.2f} MW)\")\n",
        "\n",
        "# and we can even plot it to see what's going on\n",
        "plt.figure(figsize=(15,10))\n",
        "plt.vlines(list([1, 5]), ymin=0., ymax=18, label=\"an action occured just before this step\", alpha=0.5)\n",
        "plt.plot([obs_init.gen_p[gen_id],\n",
        "          obs.gen_p[gen_id],\n",
        "          obs0.gen_p[gen_id],\n",
        "          obs1.gen_p[gen_id],\n",
        "          obs2.gen_p[gen_id],\n",
        "          obs3.gen_p[gen_id],\n",
        "          obs4.gen_p[gen_id],],\n",
        "         label=\"generation limit\", linestyle=\"-.\")\n",
        "plt.legend()\n",
        "plt.ylim([0., 18])\n",
        "plt.xlabel(\"step\")\n",
        "plt.title(f\"Evolution of the generation of generator {gen_id}\")\n",
        "_ = plt.ylabel(f\"Generation for generator {gen_id} (MW)\")"
      ]
    },
    {
      "cell_type": "markdown",
      "metadata": {
        "id": "eI0zv9gzzXvn"
      },
      "source": [
        "An example of the behaviour of this feature is provided bellow. In this example, we perform 4 curtailment actions at 4 different steps (showed by vertical bars in the final graphs) and show, for generator 2:\n",
        "- generation limit (this is the maximum allowed by the curtailment)\n",
        "- effective curtailment (this is the total amount of MW that has been curtailed)\n",
        "- reference generation (generation there would have been without curtailment)\n",
        "- actual generation (the generation observed for this generator, the power that is really injected on the grid)\n",
        "- sum of dispatch (total power absorbed by the dispatchable generator to compensate for the curtailment)"
      ]
    },
    {
      "cell_type": "code",
      "execution_count": null,
      "metadata": {
        "id": "yGhbHSbdzXvo"
      },
      "outputs": [],
      "source": [
        "env1 = grid2op.make(\"educ_case14_storage\",\n",
        "                    test=True,\n",
        "                    action_class=PlayableAction,\n",
        "                    param=param,\n",
        "                    backend=bk_cls())\n",
        "\n",
        "gen_id = 2\n",
        "ratios_max = [0.25, 0.24, 0.23, 0.25]  # don't change it\n",
        "n_steps = 40 # don't change it\n",
        "acts = []\n",
        "prod1 = []\n",
        "prod2 = []\n",
        "curtailment_limit = []\n",
        "curtail_gen1 = []\n",
        "sum_disp = []\n",
        "li_id_xplt = set()\n",
        "for ratio in ratios_max:\n",
        "    acts.append(env1.action_space({\"curtail\": [(gen_id, ratio)]}))\n",
        "\n",
        "for step in range(n_steps):\n",
        "    if step % 10 == 0:\n",
        "        # execute a curtailment action\n",
        "        li_id = step // 10\n",
        "        li_id_xplt.add(step)\n",
        "        ratio_max = ratios_max[li_id]\n",
        "        obs1_3, reward1_3, done1_3, info1_3 = env1.step(acts[li_id])\n",
        "    else:\n",
        "        obs1_3, reward1_3, done1_3, info1_3 = env1.step(env1.action_space())\n",
        "\n",
        "    if done1_3:\n",
        "        raise RuntimeError(\"Environment did game over, this is not normal\")\n",
        "    if info1_3[\"exception\"]:\n",
        "        raise RuntimeError(\"Exception for info1_3\")\n",
        "\n",
        "    prod1.append(obs1_3.gen_p[gen_id])\n",
        "    prod2.append(obs1_3.gen_p_before_curtail[gen_id])\n",
        "    curtail_gen1.append(obs1_3.curtailment_mw[gen_id])\n",
        "    curtailment_limit.append(obs1_3.curtailment_limit_mw[gen_id])\n",
        "    sum_disp.append(obs1_3.actual_dispatch.sum())\n",
        "\n",
        "plt.figure(figsize=(15,10))\n",
        "plt.vlines(list(li_id_xplt), ymin=0., ymax=18., label=\"an action occured at this step\", alpha=0.5)\n",
        "plt.plot(curtailment_limit, label=\"generation limit\", linestyle=\"-.\")\n",
        "plt.plot(curtail_gen1, label=\"effective curtailment\")\n",
        "plt.plot(prod2, label=\"reference generation (without curt.)\", linestyle=\"--\")\n",
        "plt.plot(prod1, label=\"actual generation (with curt.)\", linestyle=\":\", linewidth=3)\n",
        "plt.plot(sum_disp, label=\"sum of dispatch\", linestyle=\":\", linewidth=3)\n",
        "plt.legend()\n",
        "plt.xlabel(\"step\")\n",
        "plt.title(f\"Evolution of the generation of generator {gen_id}\")\n",
        "_ = plt.ylabel(f\"Generation for generator {gen_id} (MW)\")"
      ]
    },
    {
      "cell_type": "markdown",
      "metadata": {
        "id": "h4rNRliizXvo"
      },
      "source": [
        "### Important limit to the curtailment\n",
        "\n",
        "As always in grid2op, we suppose that the \"time series data\" (the one the agent has no access to, present in the environment and representing the \"optimal\" generator setpoint from the \"market\" - or a central authority) are balanced. This means that, without any intervention from any agent, the total generation exactly match the total demand plus the losses.\n",
        "\n",
        "When an agent perform a redispatching or a curtailment, it will affect this equilibrium. This is why grid2op \"compensate\" the action of the agent by ensuring that the \"global action\" (*ie* the sum of all modifications made by the agent) sums up to 0.\n",
        "\n",
        "To do this, the environment will modify the **controllable** generators. One key consequence is that you can take curtailment action that would \"overload\" the grid and lead directly to game over.\n",
        "\n",
        "For example, say an agent curtails 50MW of renewable energy, but the available \"ramp up\" of controlable generators is only 40MW (*ie* you can increase the controlable generators of at most 40MW between two consecutive steps). In this case the environment cannot simply create the missing 10 MW and it directly lead to a game over, as showed below."
      ]
    },
    {
      "cell_type": "code",
      "execution_count": null,
      "metadata": {
        "id": "8AyJewemzXvp"
      },
      "outputs": [],
      "source": [
        "env.set_id(0)\n",
        "obs = env.reset()\n",
        "act = env.action_space({\"curtail\": [(el, 0.) for el in range(env.n_gen) if env.gen_renewable[el]]})\n",
        "obs, reward, done, info = env.step(act)\n",
        "print(f\"Is the environment done: {done}\")\n",
        "info"
      ]
    },
    {
      "cell_type": "markdown",
      "metadata": {
        "id": "q8Ggp584zXvp"
      },
      "source": [
        "The same phenomenon occurs when you \"undo\" the curtailment, for example when you start from a situation where curtailment is really strong (you limited the curtailment to a really low level) and you suddently remove all curtailment, you might end up with issues due to ramps down, as shown bellow:"
      ]
    },
    {
      "cell_type": "code",
      "execution_count": null,
      "metadata": {
        "id": "uWoR5d6rzXvp"
      },
      "outputs": [],
      "source": [
        "env.set_id(0)\n",
        "obs = env.reset()\n",
        "# gradually decrease the total generation from renewable sources\n",
        "act = env.action_space({\"curtail\": [(el, 0.13) for el in range(env.n_gen) if env.gen_renewable[el]]})\n",
        "obs, reward, done, info = env.step(act)\n",
        "act = env.action_space({\"curtail\": [(el, 0.0) for el in range(env.n_gen) if env.gen_renewable[el]]})\n",
        "obs, reward, done, info = env.step(act)\n",
        "\n",
        "# increase it \"at once\"\n",
        "act = env.action_space({\"curtail\": [(el, 1.) for el in range(env.n_gen) if env.gen_renewable[el]]})\n",
        "obs, reward, done, info = env.step(act)\n",
        "print(f\"Is the environment done: {done}\")\n",
        "info"
      ]
    },
    {
      "cell_type": "markdown",
      "metadata": {
        "id": "eGseVhZXzXvq"
      },
      "source": [
        "To alleviate this issue, you have two possibilities:\n",
        "- make the environment more tolerant to these \"bad\" actions. In this case, the environment will \"limit\" the amount of MW curtailed in your action (using a heuristic not detailed here) and preventing you to \"break\" the grid. This can be used only if you create yourself your environment (so this is not suitable at the evaluation time of the l2rpn competitions) and is particularly useful if you envisage \"curiculum learning\" (*ie* start learning with an easier environment and when your agent achieves good performances change the environment parameters closer to the evaluation parameters)\n",
        "- do not change the environment at all, but call the `act.limit_curtail_storage(...)` to... limit the curtailment (and the storage) part of your action and keep it \"manageable\" (hopefully) by the environment.\n",
        "\n",
        "We explain the two methods in the sub sub sections bellow.\n",
        "\n",
        "#### modify the parameters of the environment\n",
        "\n",
        "As you see here, setting the `LIMIT_INFEASIBLE_CURTAILMENT_STORAGE_ACTION` to ``True`` solves the issue."
      ]
    },
    {
      "cell_type": "code",
      "execution_count": null,
      "metadata": {
        "id": "6FIoX-3QzXvq"
      },
      "outputs": [],
      "source": [
        "param = env.parameters\n",
        "param.LIMIT_INFEASIBLE_CURTAILMENT_STORAGE_ACTION = True\n",
        "env.change_parameters(param)\n",
        "\n",
        "env.set_id(0)\n",
        "obs = env.reset()\n",
        "act = env.action_space({\"curtail\": [(el, 0.) for el in range(env.n_gen) if env.gen_renewable[el]]})\n",
        "obs, reward, done, info = env.step(act)\n",
        "print(f\"Is the environment done: {done}\")\n",
        "\n",
        "# set back the parameters to orignal value\n",
        "param = env.parameters\n",
        "param.LIMIT_INFEASIBLE_CURTAILMENT_STORAGE_ACTION = False\n",
        "env.change_parameters(param)\n"
      ]
    },
    {
      "cell_type": "markdown",
      "metadata": {
        "id": "Nh2iFyktzXvr"
      },
      "source": [
        "With this method you should be guaranteed to have a valid action that will not lead to a game over (because of curtailment, you can still \"game over\" because of every other reasons)\n",
        "\n",
        "#### modify the action\n",
        "\n",
        "We developed an method of an action that can limit its impact and keep it \"small enough\" so that it does not overflow.\n",
        "\n",
        "To use it you need:\n",
        "- an observation: it will be used to compute the amount of MW that can be absorbed / produced by the controlable generators\n",
        "- a \"margin\": when the limitation is done by the environment, the environment knows exactly the amount of MW the generators can increase or decrease (this is not exactly the ramps because even if the agent does nothing, the generator will increase / decrease their production). If you put the \"margin\" to 0. (which we do not recommend), the \"limit the action\" will act as if the generators will not increase / decrease their production. Basically you can think of it of a \"safety margin\": the higher it is the more your action will be impacted but the less likely"
      ]
    },
    {
      "cell_type": "code",
      "execution_count": null,
      "metadata": {
        "id": "RqdVarlczXvr"
      },
      "outputs": [],
      "source": [
        "# if you don't limit the action, it breaks\n",
        "env.set_id(0)\n",
        "obs = env.reset()\n",
        "act = env.action_space({\"curtail\": [(el, 0.) for el in range(env.n_gen) if env.gen_renewable[el]]})\n",
        "obs, reward, done, info = env.step(act)\n",
        "print(f\"Is the environment done (without the limit_curtail_storage(...) ): {done}\")  # of course it is...\n",
        "\n",
        "# if you limit the action, it's ok\n",
        "env.set_id(0)\n",
        "obs = env.reset()\n",
        "act = env.action_space({\"curtail\": [(el, 0.) for el in range(env.n_gen) if env.gen_renewable[el]]})\n",
        "act.limit_curtail_storage(obs, margin=10.)\n",
        "obs, reward, done, info = env.step(act)\n",
        "print(f\"Is the environment done (with limit_curtail_storage(...) ): {done}\")  # of course it is...\n",
        "\n",
        "# if limit the action, but does not take enough \"margin\", it breaks again\n",
        "env.set_id(0)\n",
        "obs = env.reset()\n",
        "act = env.action_space({\"curtail\": [(el, 0.) for el in range(env.n_gen) if env.gen_renewable[el]]})\n",
        "act.limit_curtail_storage(obs, margin=0.)\n",
        "obs, reward, done, info = env.step(act)\n",
        "print(f\"Is the environment done (with limit_curtail_storage(...) and not enough margin ): {done}\")  # of course it is..."
      ]
    },
    {
      "cell_type": "markdown",
      "metadata": {
        "id": "rzPS4XvjzXvs"
      },
      "source": [
        "Nothing prevents you to use the `act.limit_curtail_storage(obs, margin=...)` in your code, when training your agent (for example as a \"heuristic\" like in the `GymEnvWithRecoWithDN` showed in notebook [04_TrainingAnAgent](./04_TrainingAnAgent.ipynb)). In this case you only need to properly set the `margin` parameter as shown above."
      ]
    }
  ],
  "metadata": {
    "kernelspec": {
      "display_name": "Python 3 (ipykernel)",
      "language": "python",
      "name": "python3"
    },
    "language_info": {
      "codemirror_mode": {
        "name": "ipython",
        "version": 3
      },
      "file_extension": ".py",
      "mimetype": "text/x-python",
      "name": "python",
      "nbconvert_exporter": "python",
      "pygments_lexer": "ipython3",
      "version": "3.8.10"
    },
    "colab": {
      "provenance": []
    }
  },
  "nbformat": 4,
  "nbformat_minor": 0
}